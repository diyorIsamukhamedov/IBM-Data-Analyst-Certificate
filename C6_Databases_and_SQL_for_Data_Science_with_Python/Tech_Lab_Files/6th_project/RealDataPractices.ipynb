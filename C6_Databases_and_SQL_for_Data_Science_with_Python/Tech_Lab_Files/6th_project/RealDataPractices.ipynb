{
 "cells": [
  {
   "cell_type": "markdown",
   "id": "9fc2610d-b653-43d5-bcd6-16797849787b",
   "metadata": {},
   "source": [
    "<center>\n",
    "    <img src=\"https://cf-courses-data.s3.us.cloud-object-storage.appdomain.cloud/IBMDeveloperSkillsNetwork-DB0201EN-SkillsNetwork/labs/FinalModule_Coursera_V5/images/SN_web_lightmode.png\" width=\"300\" alt=\"cognitiveclass.ai logo\">\n",
    "</center>\n",
    "\n",
    "# Working with a real world data-set using SQL and Python\n",
    "\n",
    "Estimated time needed: **30** minutes\n",
    "\n",
    "## Objectives\n",
    "\n",
    "After completing this lab you will be able to:\n",
    "\n",
    "*   Understand the dataset for Chicago Public School level performance\n",
    "*   Store the dataset in SQLite database.\n",
    "*   Retrieve metadata about tables and columns and query data from mixed case columns\n",
    "*   Solve example problems to practice your SQL skills including using built-in database functions\n"
   ]
  },
  {
   "cell_type": "markdown",
   "id": "9db2362d-7bbf-40e0-b41a-1ef363a651bf",
   "metadata": {},
   "source": [
    "## Chicago Public Schools - Progress Report Cards (2011-2012)\n",
    "\n",
    "The city of Chicago released a dataset showing all school level performance data used to create School Report Cards for the 2011-2012 school year. The dataset is available from the Chicago Data Portal: [https://data.cityofchicago.org/Education/Chicago-Public-Schools-Progress-Report-Cards-2011-/9xs2-f89t](https://data.cityofchicago.org/Education/Chicago-Public-Schools-Progress-Report-Cards-2011-/9xs2-f89t?utm_medium=Exinfluencer&utm_source=Exinfluencer&utm_content=000026UJ&utm_term=10006555&utm_id=NA-SkillsNetwork-Channel-SkillsNetworkCoursesIBMDeveloperSkillsNetworkDB0201ENSkillsNetwork20127838-2021-01-01&cm_mmc=Email_Newsletter-\\_-Developer_Ed%2BTech-\\_-WW_WW-\\_-SkillsNetwork-Courses-IBMDeveloperSkillsNetwork-DB0201EN-SkillsNetwork-20127838&cm_mmca1=000026UJ&cm_mmca2=10006555&cm_mmca3=M12345678&cvosrc=email.Newsletter.M12345678&cvo_campaign=000026UJ)\n",
    "\n",
    "This dataset includes a large number of metrics. Start by familiarizing yourself with the types of metrics in the database: [https://data.cityofchicago.org/api/assets/AAD41A13-BE8A-4E67-B1F5-86E711E09D5F?download=true](https://data.cityofchicago.org/api/assets/AAD41A13-BE8A-4E67-B1F5-86E711E09D5F?utm_medium=Exinfluencer&utm_source=Exinfluencer&utm_content=000026UJ&utm_term=10006555&utm_id=NA-SkillsNetwork-Channel-SkillsNetworkCoursesIBMDeveloperSkillsNetworkDB0201ENSkillsNetwork20127838-2021-01-01&download=true&cm_mmc=Email_Newsletter-\\_-Developer_Ed%2BTech-\\_-WW_WW-\\_-SkillsNetwork-Courses-IBMDeveloperSkillsNetwork-DB0201EN-SkillsNetwork-20127838&cm_mmca1=000026UJ&cm_mmca2=10006555&cm_mmca3=M12345678&cvosrc=email.Newsletter.M12345678&cvo_campaign=000026UJ)\n",
    "\n",
    "**NOTE**:\n",
    "\n",
    "Do not download the dataset directly from City of Chicago portal. Instead download a static copy which is a more database friendly version from this <a href=\"https://cf-courses-data.s3.us.cloud-object-storage.appdomain.cloud/IBMDeveloperSkillsNetwork-DB0201EN-SkillsNetwork/labs/FinalModule_Coursera_V5/data/ChicagoPublicSchools.csv?utm_medium=Exinfluencer&utm_source=Exinfluencer&utm_content=000026UJ&utm_term=10006555&utm_id=NA-SkillsNetwork-Channel-SkillsNetworkCoursesIBMDeveloperSkillsNetworkDB0201ENSkillsNetwork20127838-2021-01-01\">link</a>.\n",
    "\n",
    "Now review some of its contents.\n"
   ]
  },
  {
   "cell_type": "markdown",
   "id": "62276de2-2f28-4019-9cbe-5dd61e5facfb",
   "metadata": {},
   "source": [
    "### Connect to the database\n",
    "\n",
    "Let us now load the ipython-sql  extension and establish a connection with the database\n",
    "\n",
    "##### The syntax for connecting to magic sql using sqllite is\n",
    "\n",
    "  **%sql sqlite://DatabaseName**   \n",
    "  \n",
    "where DatabaseName will be your **.db** file \n"
   ]
  },
  {
   "cell_type": "code",
   "execution_count": 1,
   "id": "859d7ed6-1e8b-4a74-bf51-0f7c8f09cb45",
   "metadata": {},
   "outputs": [],
   "source": [
    "import csv, sqlite3\n",
    "\n",
    "con = sqlite3.connect(\"RealWorldData.db\")\n",
    "cur = con.cursor()"
   ]
  },
  {
   "cell_type": "code",
   "execution_count": 2,
   "id": "778b1326-af8c-4197-a5a2-5748ec70ea87",
   "metadata": {},
   "outputs": [],
   "source": [
    "# !pip install pandas\n",
    "# !pip install ipython-sql prettytable\n",
    "import pandas as pd\n",
    "\n",
    "import prettytable\n",
    "prettytable.DEFAULT = 'DEFAULT'"
   ]
  },
  {
   "cell_type": "code",
   "execution_count": 3,
   "id": "2bf5dfa2-ee56-4977-b1e0-26aefefde37e",
   "metadata": {},
   "outputs": [],
   "source": [
    "# !pip install ipython-sql\n",
    "%load_ext sql"
   ]
  },
  {
   "cell_type": "code",
   "execution_count": 4,
   "id": "8fa55b20-4f14-4f40-8d4b-e6f955d4b320",
   "metadata": {},
   "outputs": [],
   "source": [
    "%sql sqlite:///RealWorldData.db"
   ]
  },
  {
   "cell_type": "markdown",
   "id": "54e4061a-418c-4c4e-b591-a7ed79cee68e",
   "metadata": {},
   "source": [
    "### Store the dataset in a Table\n",
    "\n",
    "##### In many cases the dataset to be analyzed is available as a .CSV (comma separated values) file, perhaps on the internet.  \n",
    "##### To analyze the data using SQL, it first needs to be stored in the database.\n",
    "\n",
    "##### We will first read the csv files  from the given url  into pandas dataframes\n",
    "\n",
    "##### Next we will be using the  df.to_sql() function to convert each csv file  to a table in sqlite  with the csv data loaded in it.\n"
   ]
  },
  {
   "cell_type": "code",
   "execution_count": 5,
   "id": "5ee92510-3866-46ce-a780-f15748469309",
   "metadata": {},
   "outputs": [
    {
     "data": {
      "text/plain": [
       "566"
      ]
     },
     "execution_count": 5,
     "metadata": {},
     "output_type": "execute_result"
    }
   ],
   "source": [
    "df = pd.read_csv('ChicagoPublicSchools.csv')\n",
    "\n",
    "df.to_sql(name='CHICAGO_PUBLIC_SCHOOLS_DATA', con=con, if_exists='replace', index=False)"
   ]
  },
  {
   "cell_type": "markdown",
   "id": "92d3a38d-ee54-4a06-bb3c-eacd2edd5b78",
   "metadata": {},
   "source": [
    "Double-click **here** for the solution.\n",
    "<!--\n",
    "\n",
    "import pandas\n",
    "\n",
    "df = pandas.read_csv(\"https://cf-courses-data.s3.us.cloud-object-storage.appdomain.cloud/IBMDeveloperSkillsNetwork-DB0201EN-SkillsNetwork/labs/FinalModule_Coursera_V5/data/ChicagoPublicSchools.csv\")\n",
    "df.to_sql(\"CHICAGO_PUBLIC_SCHOOLS_DATA\", con, if_exists='replace', index=False, method=\"multi\")\n",
    "\n",
    "-->\n"
   ]
  },
  {
   "cell_type": "markdown",
   "id": "9ed489d9-3c91-4310-81fe-5f46a2a331a2",
   "metadata": {},
   "source": [
    "### Query the database system catalog to retrieve table metadata\n",
    "\n",
    "##### You can verify that the table creation was successful by retrieving the list of all tables in your schema and checking whether the SCHOOLS table was created\n"
   ]
  },
  {
   "cell_type": "code",
   "execution_count": 6,
   "id": "220833df-a1cc-4f44-8ee7-aeac6c3a0ad6",
   "metadata": {},
   "outputs": [
    {
     "name": "stdout",
     "output_type": "stream",
     "text": [
      "Tables in the DB:\n",
      "1. CENSUS_DATA\n",
      "2. CHICAGO_PUBLIC_SCHOOLS_DATA\n"
     ]
    }
   ],
   "source": [
    "# type in your query to retrieve list of all tables in the database\n",
    "# %sql select name from sqlite_master where type = 'table';\n",
    "\n",
    "cur.execute(\"select name from sqlite_master where type='table'\")\n",
    "\n",
    "tables = cur.fetchall()\n",
    "\n",
    "print(\"Tables in the DB:\")\n",
    "for i, table in enumerate(tables, start=1):\n",
    "    print(f\"{i}. {table[0]}\")"
   ]
  },
  {
   "cell_type": "markdown",
   "id": "8881b19b-dfe9-49f2-b64e-f7ea50678741",
   "metadata": {},
   "source": [
    "Double-click **here** for a hint\n",
    "\n",
    "<!--\n",
    "In sqlite the system catalog table called sqlite_master contains the table metadata\n",
    "-->\n"
   ]
  },
  {
   "cell_type": "markdown",
   "id": "0b2b53bf-86f5-41d0-ab84-14dfd3e3606e",
   "metadata": {},
   "source": [
    "Double-click **here** for the solution.\n",
    "\n",
    "<!-- Solution using SQLite:\n",
    "\n",
    "%sql SELECT name FROM sqlite_master WHERE type='table'\n",
    "\n",
    "-->\n"
   ]
  },
  {
   "cell_type": "markdown",
   "id": "297a0cc2-3382-4813-8018-1fcacbefa183",
   "metadata": {},
   "source": [
    "### Query the database system catalog to retrieve column metadata\n",
    "\n",
    "##### The SCHOOLS table contains a large number of columns. How many columns does this table have?\n"
   ]
  },
  {
   "cell_type": "code",
   "execution_count": 7,
   "id": "4ea30693-14b9-4c33-a0f7-f1f01946598c",
   "metadata": {},
   "outputs": [
    {
     "name": "stdout",
     "output_type": "stream",
     "text": [
      "Number of columns: 78\n"
     ]
    }
   ],
   "source": [
    "# type in your query to retrieve the number of columns in the SCHOOLS table\n",
    "# %sql SELECT count(name) FROM PRAGMA_TABLE_INFO('CHICAGO_PUBLIC_SCHOOLS_DATA');\n",
    "cur.execute(\"pragma table_info(CHICAGO_PUBLIC_SCHOOLS_DATA)\")\n",
    "\n",
    "columns = cur.fetchall()\n",
    "\n",
    "print(f'Number of columns: {len(columns)}')"
   ]
  },
  {
   "cell_type": "markdown",
   "id": "eb5a2e1a-4e48-41c7-b1d6-ecbeaf445ae6",
   "metadata": {},
   "source": [
    "Double-click **here** for the solution.\n",
    "\n",
    "<!-- Solution SQLite:\n",
    "%sql SELECT count(name) FROM PRAGMA_TABLE_INFO('CHICAGO_PUBLIC_SCHOOLS_DATA');\n",
    "\n",
    "-->\n"
   ]
  },
  {
   "cell_type": "markdown",
   "id": "3a67cf28-e325-43a0-ab35-60e18ad1dbc4",
   "metadata": {},
   "source": [
    "Now retrieve the the list of columns in SCHOOLS table and their column type (datatype) and length."
   ]
  },
  {
   "cell_type": "code",
   "execution_count": 8,
   "id": "5ea8cbd6-e299-4a48-bff6-41600556d211",
   "metadata": {},
   "outputs": [
    {
     "name": "stdout",
     "output_type": "stream",
     "text": [
      "+--------------------------------------------------+---------+--------+\n",
      "|                       name                       |   type  | length |\n",
      "+--------------------------------------------------+---------+--------+\n",
      "|                    School_ID                     | INTEGER |   7    |\n",
      "|                  NAME_OF_SCHOOL                  |   TEXT  |   4    |\n",
      "|        Elementary, Middle, or High School        |   TEXT  |   4    |\n",
      "|                  Street_Address                  |   TEXT  |   4    |\n",
      "|                       City                       |   TEXT  |   4    |\n",
      "|                      State                       |   TEXT  |   4    |\n",
      "|                     ZIP_Code                     | INTEGER |   7    |\n",
      "|                   Phone_Number                   |   TEXT  |   4    |\n",
      "|                       Link                       |   TEXT  |   4    |\n",
      "|                 Network_Manager                  |   TEXT  |   4    |\n",
      "|                Collaborative_Name                |   TEXT  |   4    |\n",
      "|          Adequate_Yearly_Progress_Made_          |   TEXT  |   4    |\n",
      "|                  Track_Schedule                  |   TEXT  |   4    |\n",
      "|          CPS_Performance_Policy_Status           |   TEXT  |   4    |\n",
      "|           CPS_Performance_Policy_Level           |   TEXT  |   4    |\n",
      "|             HEALTHY_SCHOOL_CERTIFIED             |   TEXT  |   4    |\n",
      "|                   Safety_Icon                    |   TEXT  |   4    |\n",
      "|                   SAFETY_SCORE                   |   REAL  |   4    |\n",
      "|             Family_Involvement_Icon              |   TEXT  |   4    |\n",
      "|             Family_Involvement_Score             |   TEXT  |   4    |\n",
      "|                 Environment_Icon                 |   TEXT  |   4    |\n",
      "|                Environment_Score                 |   REAL  |   4    |\n",
      "|                 Instruction_Icon                 |   TEXT  |   4    |\n",
      "|                Instruction_Score                 |   REAL  |   4    |\n",
      "|                   Leaders_Icon                   |   TEXT  |   4    |\n",
      "|                  Leaders_Score                   |   TEXT  |   4    |\n",
      "|                  Teachers_Icon                   |   TEXT  |   4    |\n",
      "|                  Teachers_Score                  |   TEXT  |   4    |\n",
      "|              Parent_Engagement_Icon              |   TEXT  |   4    |\n",
      "|             Parent_Engagement_Score              |   TEXT  |   4    |\n",
      "|             Parent_Environment_Icon              |   TEXT  |   4    |\n",
      "|             Parent_Environment_Score             |   TEXT  |   4    |\n",
      "|            AVERAGE_STUDENT_ATTENDANCE            |   TEXT  |   4    |\n",
      "|      Rate_of_Misconducts__per_100_students_      |   REAL  |   4    |\n",
      "|            Average_Teacher_Attendance            |   TEXT  |   4    |\n",
      "| Individualized_Education_Program_Compliance_Rate |   TEXT  |   4    |\n",
      "|                 Pk_2_Literacy__                  |   TEXT  |   4    |\n",
      "|                   Pk_2_Math__                    |   TEXT  |   4    |\n",
      "|             Gr3_5_Grade_Level_Math__             |   TEXT  |   4    |\n",
      "|             Gr3_5_Grade_Level_Read__             |   TEXT  |   4    |\n",
      "|              Gr3_5_Keep_Pace_Read__              |   TEXT  |   4    |\n",
      "|              Gr3_5_Keep_Pace_Math__              |   TEXT  |   4    |\n",
      "|             Gr6_8_Grade_Level_Math__             |   TEXT  |   4    |\n",
      "|             Gr6_8_Grade_Level_Read__             |   TEXT  |   4    |\n",
      "|              Gr6_8_Keep_Pace_Math_               |   TEXT  |   4    |\n",
      "|              Gr6_8_Keep_Pace_Read__              |   TEXT  |   4    |\n",
      "|               Gr_8_Explore_Math__                |   TEXT  |   4    |\n",
      "|               Gr_8_Explore_Read__                |   TEXT  |   4    |\n",
      "|              ISAT_Exceeding_Math__               |   REAL  |   4    |\n",
      "|             ISAT_Exceeding_Reading__             |   REAL  |   4    |\n",
      "|               ISAT_Value_Add_Math                |   REAL  |   4    |\n",
      "|               ISAT_Value_Add_Read                |   REAL  |   4    |\n",
      "|            ISAT_Value_Add_Color_Math             |   TEXT  |   4    |\n",
      "|            ISAT_Value_Add_Color_Read             |   TEXT  |   4    |\n",
      "|            Students_Taking__Algebra__            |   TEXT  |   4    |\n",
      "|           Students_Passing__Algebra__            |   TEXT  |   4    |\n",
      "|             9th Grade EXPLORE (2009)             |   TEXT  |   4    |\n",
      "|             9th Grade EXPLORE (2010)             |   TEXT  |   4    |\n",
      "|              10th Grade PLAN (2009)              |   TEXT  |   4    |\n",
      "|              10th Grade PLAN (2010)              |   TEXT  |   4    |\n",
      "|           Net_Change_EXPLORE_and_PLAN            |   TEXT  |   4    |\n",
      "|          11th Grade Average ACT (2011)           |   TEXT  |   4    |\n",
      "|             Net_Change_PLAN_and_ACT              |   TEXT  |   4    |\n",
      "|              College_Eligibility__               |   TEXT  |   4    |\n",
      "|                Graduation_Rate__                 |   TEXT  |   4    |\n",
      "|            College_Enrollment_Rate__             |   TEXT  |   4    |\n",
      "|                COLLEGE_ENROLLMENT                | INTEGER |   7    |\n",
      "|              General_Services_Route              | INTEGER |   7    |\n",
      "|             Freshman_on_Track_Rate__             |   TEXT  |   4    |\n",
      "|                   X_COORDINATE                   |   REAL  |   4    |\n",
      "|                   Y_COORDINATE                   |   REAL  |   4    |\n",
      "|                     Latitude                     |   REAL  |   4    |\n",
      "|                    Longitude                     |   REAL  |   4    |\n",
      "|              COMMUNITY_AREA_NUMBER               | INTEGER |   7    |\n",
      "|               COMMUNITY_AREA_NAME                |   TEXT  |   4    |\n",
      "|                       Ward                       | INTEGER |   7    |\n",
      "|                 Police_District                  | INTEGER |   7    |\n",
      "|                     Location                     |   TEXT  |   4    |\n",
      "+--------------------------------------------------+---------+--------+\n"
     ]
    }
   ],
   "source": [
    "from prettytable import PrettyTable\n",
    "\n",
    "# type in your query to retrieve all column names in the SCHOOLS table along with their datatypes and length\n",
    "cur.execute(\"pragma table_info(CHICAGO_PUBLIC_SCHOOLS_DATA);\")\n",
    "# %sql SELECT name, type, length(type) FROM PRAGMA_TABLE_INFO('CHICAGO_PUBLIC_SCHOOLS_DATA');\n",
    "\n",
    "table = PrettyTable()\n",
    "table.field_names = [\"name\", \"type\", \"length\"]\n",
    "\n",
    "for row in cur.fetchall():\n",
    "    name = row[1]\n",
    "    dtype = row[2]\n",
    "    length = len(dtype)\n",
    "    table.add_row([name, dtype, length])\n",
    "\n",
    "print(table)"
   ]
  },
  {
   "cell_type": "markdown",
   "id": "b4e61ba6-7c27-4a76-9339-e8569c8982c4",
   "metadata": {},
   "source": [
    "Double-click **here** for the solution.\n",
    "\n",
    "<!-- Solution \n",
    "\n",
    "%sql SELECT name,type,length(type) FROM PRAGMA_TABLE_INFO('CHICAGO_PUBLIC_SCHOOLS_DATA');\n",
    "\n",
    "-->\n"
   ]
  },
  {
   "cell_type": "markdown",
   "id": "e2af952d-abbe-4c7d-98d4-865a57442cf6",
   "metadata": {},
   "source": [
    "### Questions\n",
    "\n",
    "1.  Is the column name for the \"SCHOOL ID\" attribute in upper or mixed case?\n",
    "2.  What is the name of \"Community Area Name\" column in your table? Does it have spaces?\n",
    "3.  Are there any columns in whose names the spaces and paranthesis (round brackets) have been replaced by the underscore character \"\\_\"?\n"
   ]
  },
  {
   "cell_type": "markdown",
   "metadata": {},
   "source": [
    "### Answers:\n",
    "### 1. The column name for the `\"SCHOOL ID\"` attribute in mixed case\n",
    "### 2. The actual column name is `COMMUNITY_AREA_NAME`. It does not have spaces. Spaces were replaced by underscores.\n",
    "### 3. Yes, several column names that originally had spaces or parentheses have been replaced with underscores.\n",
    "    The column Rate_of_Misconducts__per_100_students_ likely comes from a name like:\n",
    "    `\"Rate of Misconducts (per 100 students)\"`.\n",
    "\n",
    "    Parentheses are removed, and their content is wrapped with extra underscores (e.g., `__per_100_students_`).\n",
    "\n",
    "    However, not all columns follow this rule. For example:\n",
    "\n",
    "`9th Grade EXPLORE (2009)` is still written exactly like that, with spaces and parentheses, meaning it was explicitly preserved during table creation (probably enclosed in double quotes)."
   ]
  },
  {
   "cell_type": "markdown",
   "id": "5d1fc20d-1ac7-4fd0-9998-ac9199c7e72f",
   "metadata": {},
   "source": [
    "## Problems\n",
    "\n",
    "### Problem 1\n",
    "\n",
    "##### How many Elementary Schools are in the dataset?\n"
   ]
  },
  {
   "cell_type": "code",
   "execution_count": 9,
   "id": "5493c781-e648-4050-bfe8-4af0cd503031",
   "metadata": {},
   "outputs": [
    {
     "name": "stdout",
     "output_type": "stream",
     "text": [
      "Count of Elementary schools: 462\n"
     ]
    }
   ],
   "source": [
    "# %sql select count(*) from CHICAGO_PUBLIC_SCHOOLS_DATA where [Elementary, Middle, or High School] = 'ES';\n",
    "\n",
    "query = \"\"\"\n",
    "select count(*)\n",
    "from CHICAGO_PUBLIC_SCHOOLS_DATA\n",
    "where [Elementary, Middle, or High School] = 'ES';\n",
    "\"\"\"\n",
    "\n",
    "cur.execute(query)\n",
    "result = cur.fetchone()[0]\n",
    "print(f\"Count of Elementary schools: {result}\")"
   ]
  },
  {
   "cell_type": "markdown",
   "id": "6fdfdf50-40c9-4b3c-adac-7df0f8b6f0c5",
   "metadata": {},
   "source": [
    "Double-click **here** for a hint\n",
    "\n",
    "<!--\n",
    "Which column specifies the school type e.g. 'ES', 'MS', 'HS'? (\"Elementary School, Middle School, High School\")\n",
    "-->\n"
   ]
  },
  {
   "cell_type": "markdown",
   "id": "b030868f-e41f-4e17-9217-9e33e294564f",
   "metadata": {},
   "source": [
    "Double-click **here** for another hint\n",
    "\n",
    "<!--\n",
    "Does the column name have mixed case, spaces or other special characters?\n",
    "If so, ensure you use double quotes around the \"Name of the Column\"\n",
    "-->\n"
   ]
  },
  {
   "cell_type": "markdown",
   "id": "8ca5d8f6-06b3-478f-9f40-b3ec438f6e4c",
   "metadata": {},
   "source": [
    "Double-click **here** for the solution.\n",
    "\n",
    "<!-- Solution:\n",
    "\n",
    "%sql select count(*) from CHICAGO_PUBLIC_SCHOOLS_DATA where \"Elementary, Middle, or High School\"='ES'\n",
    "\n",
    "Correct answer: 462\n",
    "\n",
    "-->\n"
   ]
  },
  {
   "cell_type": "markdown",
   "id": "aa93e0d8-ef5f-4044-84c8-2312fa69b9f7",
   "metadata": {},
   "source": [
    "### Problem 2\n",
    "\n",
    "##### What is the highest Safety Score?\n"
   ]
  },
  {
   "cell_type": "code",
   "execution_count": 10,
   "id": "32611b8b-a382-4776-b7d5-92eb48d94030",
   "metadata": {},
   "outputs": [
    {
     "name": "stdout",
     "output_type": "stream",
     "text": [
      "Max Safety Score: 99.0\n"
     ]
    }
   ],
   "source": [
    "# %sql select max(SAFETY_SCORE) as max_safety_score from CHICAGO_PUBLIC_SCHOOLS_DATA;\n",
    "\n",
    "cur.execute(\"select max(SAFETY_SCORE) as max_safety_score from CHICAGO_PUBLIC_SCHOOLS_DATA;\")\n",
    "max_score = cur.fetchone()[0]\n",
    "print(f\"Max Safety Score: {max_score}\")"
   ]
  },
  {
   "cell_type": "markdown",
   "id": "224f39d8-ee32-4037-8ffc-7dd0025227c9",
   "metadata": {},
   "source": [
    "Double-click **here** for a hint\n",
    "\n",
    "<!--\n",
    "Use the MAX() function\n",
    "-->\n"
   ]
  },
  {
   "cell_type": "markdown",
   "id": "4d106507-09b2-4c99-8aec-adf9cf68d55d",
   "metadata": {},
   "source": [
    "Double-click **here** for the solution.\n",
    "\n",
    "<!-- Hint:\n",
    "\n",
    "%sql select MAX(Safety_Score) AS MAX_SAFETY_SCORE from CHICAGO_PUBLIC_SCHOOLS_DATA\n",
    "\n",
    "Correct answer: 99\n",
    "-->\n"
   ]
  },
  {
   "cell_type": "markdown",
   "id": "4692fe70-ec77-4cc3-ac86-e14040806560",
   "metadata": {},
   "source": [
    "### Problem 3\n",
    "\n",
    "##### Which schools have highest Safety Score?\n"
   ]
  },
  {
   "cell_type": "code",
   "execution_count": 11,
   "id": "a695e9e3-1dee-4795-92b8-eec761b9696a",
   "metadata": {},
   "outputs": [
    {
     "data": {
      "text/html": [
       "<div>\n",
       "<style scoped>\n",
       "    .dataframe tbody tr th:only-of-type {\n",
       "        vertical-align: middle;\n",
       "    }\n",
       "\n",
       "    .dataframe tbody tr th {\n",
       "        vertical-align: top;\n",
       "    }\n",
       "\n",
       "    .dataframe thead th {\n",
       "        text-align: right;\n",
       "    }\n",
       "</style>\n",
       "<table border=\"1\" class=\"dataframe\">\n",
       "  <thead>\n",
       "    <tr style=\"text-align: right;\">\n",
       "      <th></th>\n",
       "      <th>NAME_OF_SCHOOL</th>\n",
       "      <th>SAFETY_SCORE</th>\n",
       "    </tr>\n",
       "  </thead>\n",
       "  <tbody>\n",
       "    <tr>\n",
       "      <th>0</th>\n",
       "      <td>Abraham Lincoln Elementary School</td>\n",
       "      <td>99.0</td>\n",
       "    </tr>\n",
       "    <tr>\n",
       "      <th>1</th>\n",
       "      <td>Alexander Graham Bell Elementary School</td>\n",
       "      <td>99.0</td>\n",
       "    </tr>\n",
       "    <tr>\n",
       "      <th>2</th>\n",
       "      <td>Annie Keller Elementary Gifted Magnet School</td>\n",
       "      <td>99.0</td>\n",
       "    </tr>\n",
       "    <tr>\n",
       "      <th>3</th>\n",
       "      <td>Augustus H Burley Elementary School</td>\n",
       "      <td>99.0</td>\n",
       "    </tr>\n",
       "    <tr>\n",
       "      <th>4</th>\n",
       "      <td>Edgar Allan Poe Elementary Classical School</td>\n",
       "      <td>99.0</td>\n",
       "    </tr>\n",
       "    <tr>\n",
       "      <th>5</th>\n",
       "      <td>Edgebrook Elementary School</td>\n",
       "      <td>99.0</td>\n",
       "    </tr>\n",
       "    <tr>\n",
       "      <th>6</th>\n",
       "      <td>Ellen Mitchell Elementary School</td>\n",
       "      <td>99.0</td>\n",
       "    </tr>\n",
       "    <tr>\n",
       "      <th>7</th>\n",
       "      <td>James E McDade Elementary Classical School</td>\n",
       "      <td>99.0</td>\n",
       "    </tr>\n",
       "    <tr>\n",
       "      <th>8</th>\n",
       "      <td>James G Blaine Elementary School</td>\n",
       "      <td>99.0</td>\n",
       "    </tr>\n",
       "    <tr>\n",
       "      <th>9</th>\n",
       "      <td>LaSalle Elementary Language Academy</td>\n",
       "      <td>99.0</td>\n",
       "    </tr>\n",
       "    <tr>\n",
       "      <th>10</th>\n",
       "      <td>Mary E Courtenay Elementary Language Arts Center</td>\n",
       "      <td>99.0</td>\n",
       "    </tr>\n",
       "    <tr>\n",
       "      <th>11</th>\n",
       "      <td>Northside College Preparatory High School</td>\n",
       "      <td>99.0</td>\n",
       "    </tr>\n",
       "    <tr>\n",
       "      <th>12</th>\n",
       "      <td>Northside Learning Center High School</td>\n",
       "      <td>99.0</td>\n",
       "    </tr>\n",
       "    <tr>\n",
       "      <th>13</th>\n",
       "      <td>Norwood Park Elementary School</td>\n",
       "      <td>99.0</td>\n",
       "    </tr>\n",
       "    <tr>\n",
       "      <th>14</th>\n",
       "      <td>Oriole Park Elementary School</td>\n",
       "      <td>99.0</td>\n",
       "    </tr>\n",
       "    <tr>\n",
       "      <th>15</th>\n",
       "      <td>Sauganash Elementary School</td>\n",
       "      <td>99.0</td>\n",
       "    </tr>\n",
       "    <tr>\n",
       "      <th>16</th>\n",
       "      <td>Stephen Decatur Classical Elementary School</td>\n",
       "      <td>99.0</td>\n",
       "    </tr>\n",
       "    <tr>\n",
       "      <th>17</th>\n",
       "      <td>Talman Elementary School</td>\n",
       "      <td>99.0</td>\n",
       "    </tr>\n",
       "    <tr>\n",
       "      <th>18</th>\n",
       "      <td>Wildwood Elementary School</td>\n",
       "      <td>99.0</td>\n",
       "    </tr>\n",
       "  </tbody>\n",
       "</table>\n",
       "</div>"
      ],
      "text/plain": [
       "                                      NAME_OF_SCHOOL  SAFETY_SCORE\n",
       "0                  Abraham Lincoln Elementary School          99.0\n",
       "1            Alexander Graham Bell Elementary School          99.0\n",
       "2       Annie Keller Elementary Gifted Magnet School          99.0\n",
       "3                Augustus H Burley Elementary School          99.0\n",
       "4        Edgar Allan Poe Elementary Classical School          99.0\n",
       "5                        Edgebrook Elementary School          99.0\n",
       "6                   Ellen Mitchell Elementary School          99.0\n",
       "7         James E McDade Elementary Classical School          99.0\n",
       "8                   James G Blaine Elementary School          99.0\n",
       "9                LaSalle Elementary Language Academy          99.0\n",
       "10  Mary E Courtenay Elementary Language Arts Center          99.0\n",
       "11         Northside College Preparatory High School          99.0\n",
       "12             Northside Learning Center High School          99.0\n",
       "13                    Norwood Park Elementary School          99.0\n",
       "14                     Oriole Park Elementary School          99.0\n",
       "15                       Sauganash Elementary School          99.0\n",
       "16       Stephen Decatur Classical Elementary School          99.0\n",
       "17                          Talman Elementary School          99.0\n",
       "18                        Wildwood Elementary School          99.0"
      ]
     },
     "metadata": {},
     "output_type": "display_data"
    }
   ],
   "source": [
    "# %%sql \n",
    "# select NAME_OF_SCHOOL, SAFETY_SCORE\n",
    "# from CHICAGO_PUBLIC_SCHOOLS_DATA\n",
    "# where SAFETY_SCORE = (\n",
    "#     select max(SAFETY_SCORE)\n",
    "#     from CHICAGO_PUBLIC_SCHOOLS_DATA\n",
    "# );\n",
    "\n",
    "query = \"\"\"\n",
    "select NAME_OF_SCHOOL, SAFETY_SCORE\n",
    "from CHICAGO_PUBLIC_SCHOOLS_DATA\n",
    "where SAFETY_SCORE = (\n",
    "    select max(SAFETY_SCORE)\n",
    "    from CHICAGO_PUBLIC_SCHOOLS_DATA\n",
    ");\n",
    "\"\"\"\n",
    "\n",
    "cur.execute(query)\n",
    "\n",
    "rows = cur.fetchall()\n",
    "\n",
    "# for name, score in rows:\n",
    "#     print(f\"{name}: {score}\")\n",
    "\n",
    "column_names = [desc[0] for desc in cur.description]\n",
    "\n",
    "school_df = pd.DataFrame(rows, columns=column_names)\n",
    "\n",
    "display(school_df)"
   ]
  },
  {
   "cell_type": "markdown",
   "id": "d234a17e-600d-4af3-9613-97c41a41d4c1",
   "metadata": {},
   "source": [
    "Double-click **here** for the solution.\n",
    "\n",
    "<!-- Solution:\n",
    "In the previous problem we found out that the highest Safety Score is 99, so we can use that as an input in the where clause:\n",
    "\n",
    "%sql select Name_of_School, Safety_Score from CHICAGO_PUBLIC_SCHOOLS_DATA where Safety_Score = 99\n",
    "\n",
    "or, a better way:\n",
    "\n",
    "%sql select Name_of_School, Safety_Score from CHICAGO_PUBLIC_SCHOOLS_DATA where \\\n",
    "  Safety_Score= (select MAX(Safety_Score) from CHICAGO_PUBLIC_SCHOOLS_DATA)\n",
    "\n",
    "\n",
    "Correct answer: several schools with with Safety Score of 99.\n",
    "-->\n"
   ]
  },
  {
   "cell_type": "markdown",
   "id": "75546a65-e9f6-49cf-b22f-992228259f19",
   "metadata": {},
   "source": [
    "### Problem 4\n",
    "\n",
    "##### What are the top 10 schools with the highest \"Average Student Attendance\"?\n"
   ]
  },
  {
   "cell_type": "code",
   "execution_count": 12,
   "id": "21423df8-76de-46bd-a607-829e4477fbde",
   "metadata": {},
   "outputs": [
    {
     "data": {
      "text/html": [
       "<div>\n",
       "<style scoped>\n",
       "    .dataframe tbody tr th:only-of-type {\n",
       "        vertical-align: middle;\n",
       "    }\n",
       "\n",
       "    .dataframe tbody tr th {\n",
       "        vertical-align: top;\n",
       "    }\n",
       "\n",
       "    .dataframe thead th {\n",
       "        text-align: right;\n",
       "    }\n",
       "</style>\n",
       "<table border=\"1\" class=\"dataframe\">\n",
       "  <thead>\n",
       "    <tr style=\"text-align: right;\">\n",
       "      <th></th>\n",
       "      <th>NAME_OF_SCHOOL</th>\n",
       "      <th>AVERAGE_STUDENT_ATTENDANCE</th>\n",
       "    </tr>\n",
       "  </thead>\n",
       "  <tbody>\n",
       "    <tr>\n",
       "      <th>0</th>\n",
       "      <td>John Charles Haines Elementary School</td>\n",
       "      <td>98.40%</td>\n",
       "    </tr>\n",
       "    <tr>\n",
       "      <th>1</th>\n",
       "      <td>James Ward Elementary School</td>\n",
       "      <td>97.80%</td>\n",
       "    </tr>\n",
       "    <tr>\n",
       "      <th>2</th>\n",
       "      <td>Edgar Allan Poe Elementary Classical School</td>\n",
       "      <td>97.60%</td>\n",
       "    </tr>\n",
       "    <tr>\n",
       "      <th>3</th>\n",
       "      <td>Orozco Fine Arts &amp; Sciences Elementary School</td>\n",
       "      <td>97.60%</td>\n",
       "    </tr>\n",
       "    <tr>\n",
       "      <th>4</th>\n",
       "      <td>Rachel Carson Elementary School</td>\n",
       "      <td>97.60%</td>\n",
       "    </tr>\n",
       "    <tr>\n",
       "      <th>5</th>\n",
       "      <td>Annie Keller Elementary Gifted Magnet School</td>\n",
       "      <td>97.50%</td>\n",
       "    </tr>\n",
       "    <tr>\n",
       "      <th>6</th>\n",
       "      <td>Andrew Jackson Elementary Language Academy</td>\n",
       "      <td>97.40%</td>\n",
       "    </tr>\n",
       "    <tr>\n",
       "      <th>7</th>\n",
       "      <td>Lenart Elementary Regional Gifted Center</td>\n",
       "      <td>97.40%</td>\n",
       "    </tr>\n",
       "    <tr>\n",
       "      <th>8</th>\n",
       "      <td>Disney II Magnet School</td>\n",
       "      <td>97.30%</td>\n",
       "    </tr>\n",
       "    <tr>\n",
       "      <th>9</th>\n",
       "      <td>John H Vanderpoel Elementary Magnet School</td>\n",
       "      <td>97.20%</td>\n",
       "    </tr>\n",
       "  </tbody>\n",
       "</table>\n",
       "</div>"
      ],
      "text/plain": [
       "                                  NAME_OF_SCHOOL AVERAGE_STUDENT_ATTENDANCE\n",
       "0          John Charles Haines Elementary School                     98.40%\n",
       "1                   James Ward Elementary School                     97.80%\n",
       "2    Edgar Allan Poe Elementary Classical School                     97.60%\n",
       "3  Orozco Fine Arts & Sciences Elementary School                     97.60%\n",
       "4                Rachel Carson Elementary School                     97.60%\n",
       "5   Annie Keller Elementary Gifted Magnet School                     97.50%\n",
       "6     Andrew Jackson Elementary Language Academy                     97.40%\n",
       "7       Lenart Elementary Regional Gifted Center                     97.40%\n",
       "8                        Disney II Magnet School                     97.30%\n",
       "9     John H Vanderpoel Elementary Magnet School                     97.20%"
      ]
     },
     "metadata": {},
     "output_type": "display_data"
    }
   ],
   "source": [
    "# %%sql\n",
    "# select NAME_OF_SCHOOL, AVERAGE_STUDENT_ATTENDANCE\n",
    "# from CHICAGO_PUBLIC_SCHOOLS_DATA\n",
    "# order by AVERAGE_STUDENT_ATTENDANCE desc\n",
    "# limit 10;\n",
    "\n",
    "query = \"\"\"\n",
    "select NAME_OF_SCHOOL, AVERAGE_STUDENT_ATTENDANCE\n",
    "from CHICAGO_PUBLIC_SCHOOLS_DATA\n",
    "order by AVERAGE_STUDENT_ATTENDANCE desc\n",
    "limit 10\n",
    "\"\"\"\n",
    "cur.execute(query)\n",
    "\n",
    "rows = cur.fetchall()\n",
    "\n",
    "column_names = [desc[0] for desc in cur.description]\n",
    "\n",
    "attendance_df = pd.DataFrame(rows, columns=column_names)\n",
    "\n",
    "display(attendance_df)"
   ]
  },
  {
   "cell_type": "markdown",
   "id": "72b88303-4337-459f-8a95-e6d1e39a5d87",
   "metadata": {},
   "source": [
    "Double-click **here** for the solution.\n",
    "\n",
    "<!-- Solution:\n",
    "\n",
    "%sql select Name_of_School, Average_Student_Attendance from CHICAGO_PUBLIC_SCHOOLS_DATA \\\n",
    "    order by Average_Student_Attendance desc nulls last limit 10 \n",
    "\n",
    "-->\n"
   ]
  },
  {
   "cell_type": "markdown",
   "id": "21d6a018-2ab6-4559-946f-4b30f72e0e88",
   "metadata": {},
   "source": [
    "### Problem 5\n",
    "\n",
    "##### Retrieve the list of 5 Schools with the lowest Average Student Attendance sorted in ascending order based on attendance\n"
   ]
  },
  {
   "cell_type": "code",
   "execution_count": 13,
   "id": "4f3082e3-c7df-482b-9d9f-d44be92bd25c",
   "metadata": {},
   "outputs": [
    {
     "data": {
      "text/html": [
       "<div>\n",
       "<style scoped>\n",
       "    .dataframe tbody tr th:only-of-type {\n",
       "        vertical-align: middle;\n",
       "    }\n",
       "\n",
       "    .dataframe tbody tr th {\n",
       "        vertical-align: top;\n",
       "    }\n",
       "\n",
       "    .dataframe thead th {\n",
       "        text-align: right;\n",
       "    }\n",
       "</style>\n",
       "<table border=\"1\" class=\"dataframe\">\n",
       "  <thead>\n",
       "    <tr style=\"text-align: right;\">\n",
       "      <th></th>\n",
       "      <th>NAME_OF_SCHOOL</th>\n",
       "      <th>AVERAGE_STUDENT_ATTENDANCE</th>\n",
       "    </tr>\n",
       "  </thead>\n",
       "  <tbody>\n",
       "    <tr>\n",
       "      <th>0</th>\n",
       "      <td>Richard T Crane Technical Preparatory High School</td>\n",
       "      <td>57.90%</td>\n",
       "    </tr>\n",
       "    <tr>\n",
       "      <th>1</th>\n",
       "      <td>Barbara Vick Early Childhood &amp; Family Center</td>\n",
       "      <td>60.90%</td>\n",
       "    </tr>\n",
       "    <tr>\n",
       "      <th>2</th>\n",
       "      <td>Dyett High School</td>\n",
       "      <td>62.50%</td>\n",
       "    </tr>\n",
       "    <tr>\n",
       "      <th>3</th>\n",
       "      <td>Wendell Phillips Academy High School</td>\n",
       "      <td>63.00%</td>\n",
       "    </tr>\n",
       "    <tr>\n",
       "      <th>4</th>\n",
       "      <td>Orr Academy High School</td>\n",
       "      <td>66.30%</td>\n",
       "    </tr>\n",
       "  </tbody>\n",
       "</table>\n",
       "</div>"
      ],
      "text/plain": [
       "                                      NAME_OF_SCHOOL  \\\n",
       "0  Richard T Crane Technical Preparatory High School   \n",
       "1       Barbara Vick Early Childhood & Family Center   \n",
       "2                                  Dyett High School   \n",
       "3               Wendell Phillips Academy High School   \n",
       "4                            Orr Academy High School   \n",
       "\n",
       "  AVERAGE_STUDENT_ATTENDANCE  \n",
       "0                     57.90%  \n",
       "1                     60.90%  \n",
       "2                     62.50%  \n",
       "3                     63.00%  \n",
       "4                     66.30%  "
      ]
     },
     "metadata": {},
     "output_type": "display_data"
    }
   ],
   "source": [
    "# %%sql\n",
    "# select NAME_OF_SCHOOL, AVERAGE_STUDENT_ATTENDANCE\n",
    "# from CHICAGO_PUBLIC_SCHOOLS_DATA\n",
    "# order by AVERAGE_STUDENT_ATTENDANCE asc nulls last\n",
    "# limit 5;\n",
    "\n",
    "query = \"\"\"\n",
    "select NAME_OF_SCHOOL, AVERAGE_STUDENT_ATTENDANCE\n",
    "from CHICAGO_PUBLIC_SCHOOLS_DATA\n",
    "order by AVERAGE_STUDENT_ATTENDANCE asc nulls last\n",
    "limit 5;\n",
    "\"\"\"\n",
    "\n",
    "cur.execute(query)\n",
    "\n",
    "rows = cur.fetchall()\n",
    "\n",
    "column_names = [desc[0] for desc in cur.description]\n",
    "\n",
    "lowest_attendance_df = pd.DataFrame(rows, columns=column_names)\n",
    "\n",
    "display(lowest_attendance_df)"
   ]
  },
  {
   "cell_type": "markdown",
   "id": "c70e0a6d-cad3-400f-a78a-dbc909d2668f",
   "metadata": {},
   "source": [
    "Double-click **here** for the solution.\n",
    "\n",
    "<!-- Solution:\n",
    "\n",
    "%sql SELECT Name_of_School, Average_Student_Attendance  \\\n",
    "     from CHICAGO_PUBLIC_SCHOOLS_DATA \\\n",
    "     order by Average_Student_Attendance \\\n",
    "     LIMIT 5\n",
    "\n",
    "-->\n"
   ]
  },
  {
   "cell_type": "markdown",
   "id": "7f6838d5-d59e-404b-b289-b832e34ccc92",
   "metadata": {},
   "source": [
    "### Problem 6\n",
    "\n",
    "##### Now remove the '%' sign from the above result set for Average Student Attendance column\n"
   ]
  },
  {
   "cell_type": "code",
   "execution_count": 14,
   "id": "71d3899e-caf5-43b4-bdbd-24020f131fef",
   "metadata": {},
   "outputs": [
    {
     "data": {
      "text/html": [
       "<div>\n",
       "<style scoped>\n",
       "    .dataframe tbody tr th:only-of-type {\n",
       "        vertical-align: middle;\n",
       "    }\n",
       "\n",
       "    .dataframe tbody tr th {\n",
       "        vertical-align: top;\n",
       "    }\n",
       "\n",
       "    .dataframe thead th {\n",
       "        text-align: right;\n",
       "    }\n",
       "</style>\n",
       "<table border=\"1\" class=\"dataframe\">\n",
       "  <thead>\n",
       "    <tr style=\"text-align: right;\">\n",
       "      <th></th>\n",
       "      <th>name_of_school</th>\n",
       "      <th>avg_student_attendance</th>\n",
       "    </tr>\n",
       "  </thead>\n",
       "  <tbody>\n",
       "    <tr>\n",
       "      <th>0</th>\n",
       "      <td>Richard T Crane Technical Preparatory High School</td>\n",
       "      <td>57.90</td>\n",
       "    </tr>\n",
       "    <tr>\n",
       "      <th>1</th>\n",
       "      <td>Barbara Vick Early Childhood &amp; Family Center</td>\n",
       "      <td>60.90</td>\n",
       "    </tr>\n",
       "    <tr>\n",
       "      <th>2</th>\n",
       "      <td>Dyett High School</td>\n",
       "      <td>62.50</td>\n",
       "    </tr>\n",
       "    <tr>\n",
       "      <th>3</th>\n",
       "      <td>Wendell Phillips Academy High School</td>\n",
       "      <td>63.00</td>\n",
       "    </tr>\n",
       "    <tr>\n",
       "      <th>4</th>\n",
       "      <td>Orr Academy High School</td>\n",
       "      <td>66.30</td>\n",
       "    </tr>\n",
       "  </tbody>\n",
       "</table>\n",
       "</div>"
      ],
      "text/plain": [
       "                                      name_of_school avg_student_attendance\n",
       "0  Richard T Crane Technical Preparatory High School                  57.90\n",
       "1       Barbara Vick Early Childhood & Family Center                  60.90\n",
       "2                                  Dyett High School                  62.50\n",
       "3               Wendell Phillips Academy High School                  63.00\n",
       "4                            Orr Academy High School                  66.30"
      ]
     },
     "metadata": {},
     "output_type": "display_data"
    }
   ],
   "source": [
    "# %%sql\n",
    "# select NAME_OF_SCHOOL as name_of_school, replace(AVERAGE_STUDENT_ATTENDANCE, '%', '') as avg_student_attendance\n",
    "# from CHICAGO_PUBLIC_SCHOOLS_DATA\n",
    "# order by AVERAGE_STUDENT_ATTENDANCE asc nulls last\n",
    "# limit 5;\n",
    "\n",
    "query = \"\"\"\n",
    "select NAME_OF_SCHOOL as name_of_school, replace(AVERAGE_STUDENT_ATTENDANCE, '%', '') as avg_student_attendance\n",
    "from CHICAGO_PUBLIC_SCHOOLS_DATA\n",
    "order by AVERAGE_STUDENT_ATTENDANCE asc nulls last\n",
    "limit 5;\n",
    "\"\"\"\n",
    "\n",
    "cur.execute(query)\n",
    "\n",
    "rows = cur.fetchall()\n",
    "\n",
    "column_names = [desc[0] for desc in cur.description]\n",
    "\n",
    "lowest_attendance_df = pd.DataFrame(rows, columns=column_names)\n",
    "\n",
    "display(lowest_attendance_df)"
   ]
  },
  {
   "cell_type": "markdown",
   "id": "e525954e-9c03-4e4d-8876-775e45ee5a53",
   "metadata": {},
   "source": [
    "Double-click **here** for a hint\n",
    "\n",
    "<!--\n",
    "Use the REPLACE() function to replace '%' with ''\n",
    "\n",
    "-->\n"
   ]
  },
  {
   "cell_type": "markdown",
   "id": "3fc3071a-e316-4acb-a4c0-1cfd881f120c",
   "metadata": {},
   "source": [
    "Double-click **here** for the solution.\n",
    "\n",
    "<!-- Hint:\n",
    "\n",
    "%sql SELECT Name_of_School, REPLACE(Average_Student_Attendance, '%', '') \\\n",
    "     from CHICAGO_PUBLIC_SCHOOLS_DATA \\\n",
    "     order by Average_Student_Attendance \\\n",
    "     LIMIT 5\n",
    "\n",
    "-->\n"
   ]
  },
  {
   "cell_type": "markdown",
   "id": "23989fea-a464-4ac1-8cae-f8396e39dca5",
   "metadata": {},
   "source": [
    "### Problem 7\n",
    "\n",
    "##### Which Schools have Average Student Attendance lower than 70%?\n"
   ]
  },
  {
   "cell_type": "code",
   "execution_count": 15,
   "id": "c2d60e6a-b69f-4a78-b8e1-a46168662dea",
   "metadata": {},
   "outputs": [
    {
     "data": {
      "text/html": [
       "<div>\n",
       "<style scoped>\n",
       "    .dataframe tbody tr th:only-of-type {\n",
       "        vertical-align: middle;\n",
       "    }\n",
       "\n",
       "    .dataframe tbody tr th {\n",
       "        vertical-align: top;\n",
       "    }\n",
       "\n",
       "    .dataframe thead th {\n",
       "        text-align: right;\n",
       "    }\n",
       "</style>\n",
       "<table border=\"1\" class=\"dataframe\">\n",
       "  <thead>\n",
       "    <tr style=\"text-align: right;\">\n",
       "      <th></th>\n",
       "      <th>name_of_school</th>\n",
       "      <th>avg_student_attendance</th>\n",
       "    </tr>\n",
       "  </thead>\n",
       "  <tbody>\n",
       "    <tr>\n",
       "      <th>0</th>\n",
       "      <td>Richard T Crane Technical Preparatory High School</td>\n",
       "      <td>57.90%</td>\n",
       "    </tr>\n",
       "    <tr>\n",
       "      <th>1</th>\n",
       "      <td>Barbara Vick Early Childhood &amp; Family Center</td>\n",
       "      <td>60.90%</td>\n",
       "    </tr>\n",
       "    <tr>\n",
       "      <th>2</th>\n",
       "      <td>Dyett High School</td>\n",
       "      <td>62.50%</td>\n",
       "    </tr>\n",
       "    <tr>\n",
       "      <th>3</th>\n",
       "      <td>Wendell Phillips Academy High School</td>\n",
       "      <td>63.00%</td>\n",
       "    </tr>\n",
       "    <tr>\n",
       "      <th>4</th>\n",
       "      <td>Orr Academy High School</td>\n",
       "      <td>66.30%</td>\n",
       "    </tr>\n",
       "    <tr>\n",
       "      <th>5</th>\n",
       "      <td>Manley Career Academy High School</td>\n",
       "      <td>66.80%</td>\n",
       "    </tr>\n",
       "    <tr>\n",
       "      <th>6</th>\n",
       "      <td>Chicago Vocational Career Academy High School</td>\n",
       "      <td>68.80%</td>\n",
       "    </tr>\n",
       "    <tr>\n",
       "      <th>7</th>\n",
       "      <td>Roberto Clemente Community Academy High School</td>\n",
       "      <td>69.60%</td>\n",
       "    </tr>\n",
       "  </tbody>\n",
       "</table>\n",
       "</div>"
      ],
      "text/plain": [
       "                                      name_of_school avg_student_attendance\n",
       "0  Richard T Crane Technical Preparatory High School                 57.90%\n",
       "1       Barbara Vick Early Childhood & Family Center                 60.90%\n",
       "2                                  Dyett High School                 62.50%\n",
       "3               Wendell Phillips Academy High School                 63.00%\n",
       "4                            Orr Academy High School                 66.30%\n",
       "5                  Manley Career Academy High School                 66.80%\n",
       "6      Chicago Vocational Career Academy High School                 68.80%\n",
       "7     Roberto Clemente Community Academy High School                 69.60%"
      ]
     },
     "metadata": {},
     "output_type": "display_data"
    }
   ],
   "source": [
    "# %%sql\n",
    "# select NAME_OF_SCHOOL as name_of_school, cast(AVERAGE_STUDENT_ATTENDANCE as decimal(3, 2)) as avg_student_attendance\n",
    "# from CHICAGO_PUBLIC_SCHOOLS_DATA\n",
    "# where AVERAGE_STUDENT_ATTENDANCE < 70\n",
    "# order by AVERAGE_STUDENT_ATTENDANCE asc;\n",
    "\n",
    "query = \"\"\"\n",
    "select \n",
    "    NAME_OF_SCHOOL as name_of_school,\n",
    "    AVERAGE_STUDENT_ATTENDANCE as avg_student_attendance\n",
    "from CHICAGO_PUBLIC_SCHOOLS_DATA\n",
    "where cast(replace(AVERAGE_STUDENT_ATTENDANCE, '%', '') as decimal(3, 2)) < 70\n",
    "order by AVERAGE_STUDENT_ATTENDANCE asc;\n",
    "\"\"\"\n",
    "\n",
    "cur.execute(query)\n",
    "rows = cur.fetchall()\n",
    "column_names = [desc[0] for desc in cur.description]\n",
    "df = pd.DataFrame(rows, columns=column_names)\n",
    "display(df)"
   ]
  },
  {
   "cell_type": "markdown",
   "id": "3a80a594-ce6c-46a9-b03b-02f14d37a64b",
   "metadata": {},
   "source": [
    "Double-click **here** for a hint\n",
    "\n",
    "<!--\n",
    "The datatype of the \"Average_Student_Attendance\" column is varchar.\n",
    "So you cannot use it as is in the where clause for a numeric comparison.\n",
    "First use the CAST() function to cast it as a DECIMAL or DOUBLE\n",
    "e.g. CAST(\"Column_Name\" as DOUBLE)\n",
    "\n",
    "-->\n"
   ]
  },
  {
   "cell_type": "markdown",
   "id": "3cd1e18a-6148-453b-9d74-9cd055848c65",
   "metadata": {},
   "source": [
    "Double-click **here** for another hint\n",
    "\n",
    "<!--\n",
    "Don't forget the '%' age sign needs to be removed before casting\n",
    "-->\n"
   ]
  },
  {
   "cell_type": "markdown",
   "id": "9be2db49-4c1b-48ae-b657-e5e8281b716c",
   "metadata": {},
   "source": [
    "Double-click **here** for the solution.\n",
    "\n",
    "<!-- Solution:\n",
    "\n",
    "%sql SELECT Name_of_School, Average_Student_Attendance  \\\n",
    "     from CHICAGO_PUBLIC_SCHOOLS_DATA \\\n",
    "     where CAST ( REPLACE(Average_Student_Attendance, '%', '') AS DOUBLE ) < 70 \\\n",
    "     order by Average_Student_Attendance\n",
    "     \n",
    "\n",
    "-->\n"
   ]
  },
  {
   "cell_type": "markdown",
   "id": "771cc89d-7fab-4d5d-b118-d070d9e546bd",
   "metadata": {},
   "source": [
    "### Problem 8\n",
    "\n",
    "##### Get the total College Enrollment for each Community Area\n"
   ]
  },
  {
   "cell_type": "code",
   "execution_count": 16,
   "id": "cbc9063d-94cc-4a2f-a008-c562366a95ba",
   "metadata": {},
   "outputs": [
    {
     "data": {
      "text/html": [
       "<div>\n",
       "<style scoped>\n",
       "    .dataframe tbody tr th:only-of-type {\n",
       "        vertical-align: middle;\n",
       "    }\n",
       "\n",
       "    .dataframe tbody tr th {\n",
       "        vertical-align: top;\n",
       "    }\n",
       "\n",
       "    .dataframe thead th {\n",
       "        text-align: right;\n",
       "    }\n",
       "</style>\n",
       "<table border=\"1\" class=\"dataframe\">\n",
       "  <thead>\n",
       "    <tr style=\"text-align: right;\">\n",
       "      <th></th>\n",
       "      <th>COMMUNITY_AREA_NAME</th>\n",
       "      <th>total_college_enrollment</th>\n",
       "    </tr>\n",
       "  </thead>\n",
       "  <tbody>\n",
       "    <tr>\n",
       "      <th>0</th>\n",
       "      <td>SOUTH LAWNDALE</td>\n",
       "      <td>14793</td>\n",
       "    </tr>\n",
       "    <tr>\n",
       "      <th>1</th>\n",
       "      <td>BELMONT CRAGIN</td>\n",
       "      <td>14386</td>\n",
       "    </tr>\n",
       "    <tr>\n",
       "      <th>2</th>\n",
       "      <td>AUSTIN</td>\n",
       "      <td>10933</td>\n",
       "    </tr>\n",
       "    <tr>\n",
       "      <th>3</th>\n",
       "      <td>GAGE PARK</td>\n",
       "      <td>9915</td>\n",
       "    </tr>\n",
       "    <tr>\n",
       "      <th>4</th>\n",
       "      <td>BRIGHTON PARK</td>\n",
       "      <td>9647</td>\n",
       "    </tr>\n",
       "    <tr>\n",
       "      <th>...</th>\n",
       "      <td>...</td>\n",
       "      <td>...</td>\n",
       "    </tr>\n",
       "    <tr>\n",
       "      <th>72</th>\n",
       "      <td>LOOP</td>\n",
       "      <td>871</td>\n",
       "    </tr>\n",
       "    <tr>\n",
       "      <th>73</th>\n",
       "      <td>OHARE</td>\n",
       "      <td>786</td>\n",
       "    </tr>\n",
       "    <tr>\n",
       "      <th>74</th>\n",
       "      <td>BURNSIDE</td>\n",
       "      <td>549</td>\n",
       "    </tr>\n",
       "    <tr>\n",
       "      <th>75</th>\n",
       "      <td>FULLER PARK</td>\n",
       "      <td>531</td>\n",
       "    </tr>\n",
       "    <tr>\n",
       "      <th>76</th>\n",
       "      <td>OAKLAND</td>\n",
       "      <td>140</td>\n",
       "    </tr>\n",
       "  </tbody>\n",
       "</table>\n",
       "<p>77 rows × 2 columns</p>\n",
       "</div>"
      ],
      "text/plain": [
       "   COMMUNITY_AREA_NAME  total_college_enrollment\n",
       "0       SOUTH LAWNDALE                     14793\n",
       "1       BELMONT CRAGIN                     14386\n",
       "2               AUSTIN                     10933\n",
       "3            GAGE PARK                      9915\n",
       "4        BRIGHTON PARK                      9647\n",
       "..                 ...                       ...\n",
       "72                LOOP                       871\n",
       "73               OHARE                       786\n",
       "74            BURNSIDE                       549\n",
       "75         FULLER PARK                       531\n",
       "76             OAKLAND                       140\n",
       "\n",
       "[77 rows x 2 columns]"
      ]
     },
     "metadata": {},
     "output_type": "display_data"
    }
   ],
   "source": [
    "# %%sql\n",
    "# select\n",
    "#   COMMUNITY_AREA_NAME,\n",
    "#   sum(COLLEGE_ENROLLMENT) as total_college_enrollment\n",
    "# from\n",
    "#   CHICAGO_PUBLIC_SCHOOLS_DATA\n",
    "# group by\n",
    "#   COMMUNITY_AREA_NAME\n",
    "# order by total_college_enrollment desc;\n",
    "\n",
    "query = \"\"\"\n",
    "SELECT\n",
    "    COMMUNITY_AREA_NAME,\n",
    "    SUM(COLLEGE_ENROLLMENT) AS total_college_enrollment\n",
    "FROM \n",
    "    CHICAGO_PUBLIC_SCHOOLS_DATA\n",
    "GROUP BY \n",
    "    COMMUNITY_AREA_NAME\n",
    "ORDER BY \n",
    "    total_college_enrollment DESC;\n",
    "\"\"\"\n",
    "\n",
    "cur.execute(query)\n",
    "rows = cur.fetchall()\n",
    "column_names = [desc[0] for desc in cur.description]\n",
    "enrollment_df = pd.DataFrame(rows, columns=column_names)\n",
    "display(enrollment_df)"
   ]
  },
  {
   "cell_type": "markdown",
   "id": "ff54fbb6-49a1-4d2d-b75f-913b56e52779",
   "metadata": {},
   "source": [
    "Double-click **here** for a hint\n",
    "\n",
    "<!--\n",
    "Verify the exact name of the Enrollment column in the database\n",
    "Use the SUM() function to add up the Enrollments for each Community Area\n",
    "-->\n"
   ]
  },
  {
   "cell_type": "markdown",
   "id": "6b89cbdb-ecc4-4445-8f20-16979324e54a",
   "metadata": {},
   "source": [
    "Double-click **here** for another hint\n",
    "\n",
    "<!--\n",
    "Don't forget to group by the Community Area\n",
    "-->\n"
   ]
  },
  {
   "cell_type": "markdown",
   "id": "573d56fb-e652-47c9-ae67-ecf6b2b4b232",
   "metadata": {},
   "source": [
    "Double-click **here** for the solution.\n",
    "\n",
    "<!-- Solution:\n",
    "\n",
    "%sql select Community_Area_Name, sum(College_Enrollment) AS TOTAL_ENROLLMENT \\\n",
    "   from CHICAGO_PUBLIC_SCHOOLS_DATA \\\n",
    "   group by Community_Area_Name \n",
    "\n",
    "-->\n"
   ]
  },
  {
   "cell_type": "markdown",
   "id": "3c246606-9442-4731-9fa1-75779af1711d",
   "metadata": {},
   "source": [
    "### Problem 9\n",
    "\n",
    "##### Get the 5 Community Areas with the least total College Enrollment  sorted in ascending order\n"
   ]
  },
  {
   "cell_type": "code",
   "execution_count": 17,
   "id": "872c8210-bbe6-4bfb-aeb9-ee65892e0ad1",
   "metadata": {},
   "outputs": [
    {
     "data": {
      "text/html": [
       "<div>\n",
       "<style scoped>\n",
       "    .dataframe tbody tr th:only-of-type {\n",
       "        vertical-align: middle;\n",
       "    }\n",
       "\n",
       "    .dataframe tbody tr th {\n",
       "        vertical-align: top;\n",
       "    }\n",
       "\n",
       "    .dataframe thead th {\n",
       "        text-align: right;\n",
       "    }\n",
       "</style>\n",
       "<table border=\"1\" class=\"dataframe\">\n",
       "  <thead>\n",
       "    <tr style=\"text-align: right;\">\n",
       "      <th></th>\n",
       "      <th>COMMUNITY_AREA_NAME</th>\n",
       "      <th>total_college_enrollment</th>\n",
       "    </tr>\n",
       "  </thead>\n",
       "  <tbody>\n",
       "    <tr>\n",
       "      <th>0</th>\n",
       "      <td>OAKLAND</td>\n",
       "      <td>140</td>\n",
       "    </tr>\n",
       "    <tr>\n",
       "      <th>1</th>\n",
       "      <td>FULLER PARK</td>\n",
       "      <td>531</td>\n",
       "    </tr>\n",
       "    <tr>\n",
       "      <th>2</th>\n",
       "      <td>BURNSIDE</td>\n",
       "      <td>549</td>\n",
       "    </tr>\n",
       "    <tr>\n",
       "      <th>3</th>\n",
       "      <td>OHARE</td>\n",
       "      <td>786</td>\n",
       "    </tr>\n",
       "    <tr>\n",
       "      <th>4</th>\n",
       "      <td>LOOP</td>\n",
       "      <td>871</td>\n",
       "    </tr>\n",
       "  </tbody>\n",
       "</table>\n",
       "</div>"
      ],
      "text/plain": [
       "  COMMUNITY_AREA_NAME  total_college_enrollment\n",
       "0             OAKLAND                       140\n",
       "1         FULLER PARK                       531\n",
       "2            BURNSIDE                       549\n",
       "3               OHARE                       786\n",
       "4                LOOP                       871"
      ]
     },
     "metadata": {},
     "output_type": "display_data"
    }
   ],
   "source": [
    "# %%sql\n",
    "# select\n",
    "#   COMMUNITY_AREA_NAME,\n",
    "#   sum(COLLEGE_ENROLLMENT) as total_college_enrollment\n",
    "# from\n",
    "#   CHICAGO_PUBLIC_SCHOOLS_DATA\n",
    "# group by\n",
    "#   COMMUNITY_AREA_NAME\n",
    "# order by total_college_enrollment asc\n",
    "# limit 5;\n",
    "\n",
    "query = \"\"\"\n",
    "SELECT\n",
    "    COMMUNITY_AREA_NAME,\n",
    "    SUM(COLLEGE_ENROLLMENT) AS total_college_enrollment\n",
    "FROM \n",
    "    CHICAGO_PUBLIC_SCHOOLS_DATA\n",
    "GROUP BY \n",
    "    COMMUNITY_AREA_NAME\n",
    "ORDER BY \n",
    "    total_college_enrollment asc\n",
    "limit 5;\n",
    "\"\"\"\n",
    "\n",
    "cur.execute(query)\n",
    "rows = cur.fetchall()\n",
    "column_names = [desc[0] for desc in cur.description]\n",
    "enrollment_df = pd.DataFrame(rows, columns=column_names)\n",
    "display(enrollment_df)"
   ]
  },
  {
   "cell_type": "markdown",
   "id": "fdda8aea-949b-4e1c-8b5f-56ea93e075f2",
   "metadata": {},
   "source": [
    "Double-click **here** for a hint\n",
    "\n",
    "<!--\n",
    "Order the previous query and limit the number of rows you fetch\n",
    "-->\n"
   ]
  },
  {
   "cell_type": "markdown",
   "id": "44330936-9b97-4111-85a2-a3c20a54eadf",
   "metadata": {},
   "source": [
    "Double-click **here** for the solution.\n",
    "\n",
    "<!-- Solution:\n",
    "\n",
    "%sql select Community_Area_Name, sum(College_Enrollment) AS TOTAL_ENROLLMENT \\\n",
    "   from CHICAGO_PUBLIC_SCHOOLS_DATA \\\n",
    "   group by Community_Area_Name \\\n",
    "   order by TOTAL_ENROLLMENT asc \\\n",
    "   LIMIT 5 \n",
    "\n",
    "-->\n"
   ]
  },
  {
   "cell_type": "markdown",
   "id": "d7e089b6-d96a-48c4-86c8-2804f9ee287f",
   "metadata": {},
   "source": [
    "### Problem 10\n",
    "\n",
    "##### List 5 schools with lowest safety score.\n"
   ]
  },
  {
   "cell_type": "code",
   "execution_count": 18,
   "id": "5bcdff8e-eca8-422d-8106-4940f3279cfb",
   "metadata": {},
   "outputs": [
    {
     "data": {
      "text/html": [
       "<div>\n",
       "<style scoped>\n",
       "    .dataframe tbody tr th:only-of-type {\n",
       "        vertical-align: middle;\n",
       "    }\n",
       "\n",
       "    .dataframe tbody tr th {\n",
       "        vertical-align: top;\n",
       "    }\n",
       "\n",
       "    .dataframe thead th {\n",
       "        text-align: right;\n",
       "    }\n",
       "</style>\n",
       "<table border=\"1\" class=\"dataframe\">\n",
       "  <thead>\n",
       "    <tr style=\"text-align: right;\">\n",
       "      <th></th>\n",
       "      <th>NAME_OF_SCHOOL</th>\n",
       "      <th>SAFETY_SCORE</th>\n",
       "    </tr>\n",
       "  </thead>\n",
       "  <tbody>\n",
       "    <tr>\n",
       "      <th>0</th>\n",
       "      <td>Edmond Burke Elementary School</td>\n",
       "      <td>1.0</td>\n",
       "    </tr>\n",
       "    <tr>\n",
       "      <th>1</th>\n",
       "      <td>Luke O'Toole Elementary School</td>\n",
       "      <td>5.0</td>\n",
       "    </tr>\n",
       "    <tr>\n",
       "      <th>2</th>\n",
       "      <td>George W Tilton Elementary School</td>\n",
       "      <td>6.0</td>\n",
       "    </tr>\n",
       "    <tr>\n",
       "      <th>3</th>\n",
       "      <td>Foster Park Elementary School</td>\n",
       "      <td>11.0</td>\n",
       "    </tr>\n",
       "    <tr>\n",
       "      <th>4</th>\n",
       "      <td>Emil G Hirsch Metropolitan High School</td>\n",
       "      <td>13.0</td>\n",
       "    </tr>\n",
       "  </tbody>\n",
       "</table>\n",
       "</div>"
      ],
      "text/plain": [
       "                           NAME_OF_SCHOOL  SAFETY_SCORE\n",
       "0          Edmond Burke Elementary School           1.0\n",
       "1          Luke O'Toole Elementary School           5.0\n",
       "2       George W Tilton Elementary School           6.0\n",
       "3           Foster Park Elementary School          11.0\n",
       "4  Emil G Hirsch Metropolitan High School          13.0"
      ]
     },
     "metadata": {},
     "output_type": "display_data"
    }
   ],
   "source": [
    "# %%sql\n",
    "# select \n",
    "#     NAME_OF_SCHOOL, SAFETY_SCORE\n",
    "# from\n",
    "#     CHICAGO_PUBLIC_SCHOOLS_DATA\n",
    "# order by\n",
    "#     SAFETY_SCORE asc nulls last\n",
    "# limit 5;\n",
    "\n",
    "query = \"\"\"\n",
    "select\n",
    "    NAME_OF_SCHOOL, SAFETY_SCORE\n",
    "from\n",
    "    CHICAGO_PUBLIC_SCHOOLS_DATA\n",
    "order by\n",
    "    SAFETY_SCORE asc nulls last\n",
    "limit 5;\n",
    "\"\"\"\n",
    "\n",
    "cur.execute(query)\n",
    "rows = cur.fetchall()\n",
    "column_names = [desc[0] for desc in cur.description]\n",
    "lowest_safety_score = pd.DataFrame(rows, columns=column_names)\n",
    "display(lowest_safety_score)"
   ]
  },
  {
   "cell_type": "markdown",
   "id": "dfcc47a8-d5cb-4f45-877b-8b83dcd4df94",
   "metadata": {},
   "source": [
    "Double-click **here** for the solution.\n",
    "\n",
    "<!-- Solution SQLite:\n",
    "\n",
    "%sql SELECT name_of_school, safety_score \\\n",
    "FROM CHICAGO_PUBLIC_SCHOOLS_DATA  where safety_score !='None' \\\n",
    "ORDER BY safety_score \\\n",
    "LIMIT 5\n",
    "\n",
    "-->\n",
    "\n",
    "\n"
   ]
  },
  {
   "cell_type": "markdown",
   "id": "e50812bc-dc3f-41e2-bb35-7d75fbd9e51d",
   "metadata": {},
   "source": [
    "### Problem 11\n",
    "\n",
    "##### Get the hardship index for the community area of the school which has College Enrollment of 4368\n"
   ]
  },
  {
   "cell_type": "code",
   "execution_count": 19,
   "id": "b42ae729-836f-4035-af83-d24151dd2261",
   "metadata": {},
   "outputs": [
    {
     "name": "stdout",
     "output_type": "stream",
     "text": [
      "Tables in DB:\n",
      "1. CHICAGO_PUBLIC_SCHOOLS_DATA\n",
      "2. CENSUS_DATA\n"
     ]
    }
   ],
   "source": [
    "df = pd.read_csv(\"https://cf-courses-data.s3.us.cloud-object-storage.appdomain.cloud/IBMDeveloperSkillsNetwork-DB0201EN-SkillsNetwork/labs/FinalModule_Coursera_V5/data/ChicagoCensusData.csv\")\n",
    "\n",
    "df.to_sql(\"CENSUS_DATA\", con=con, if_exists=\"replace\", index=False, method=\"multi\")\n",
    "\n",
    "cur.execute(\"SELECT name FROM sqlite_master WHERE type='table'\")\n",
    "tables = cur.fetchall()\n",
    "print(\"Tables in DB:\")\n",
    "for i, table in enumerate(tables, 1):\n",
    "    print(f\"{i}. {table[0]}\")"
   ]
  },
  {
   "cell_type": "code",
   "execution_count": 20,
   "metadata": {},
   "outputs": [
    {
     "data": {
      "text/html": [
       "<div>\n",
       "<style scoped>\n",
       "    .dataframe tbody tr th:only-of-type {\n",
       "        vertical-align: middle;\n",
       "    }\n",
       "\n",
       "    .dataframe tbody tr th {\n",
       "        vertical-align: top;\n",
       "    }\n",
       "\n",
       "    .dataframe thead th {\n",
       "        text-align: right;\n",
       "    }\n",
       "</style>\n",
       "<table border=\"1\" class=\"dataframe\">\n",
       "  <thead>\n",
       "    <tr style=\"text-align: right;\">\n",
       "      <th></th>\n",
       "      <th>HARDSHIP_INDEX</th>\n",
       "    </tr>\n",
       "  </thead>\n",
       "  <tbody>\n",
       "    <tr>\n",
       "      <th>0</th>\n",
       "      <td>6.0</td>\n",
       "    </tr>\n",
       "  </tbody>\n",
       "</table>\n",
       "</div>"
      ],
      "text/plain": [
       "   HARDSHIP_INDEX\n",
       "0             6.0"
      ]
     },
     "metadata": {},
     "output_type": "display_data"
    }
   ],
   "source": [
    "# %%sql\n",
    "# select \n",
    "#     cd.HARDSHIP_INDEX\n",
    "# from \n",
    "#     CENSUS_DATA cd\n",
    "# join \n",
    "#     CHICAGO_PUBLIC_SCHOOLS_DATA cps\n",
    "#     on cd.COMMUNITY_AREA_NUMBER = cps.COMMUNITY_AREA_NUMBER\n",
    "# where \n",
    "#     cps.COLLEGE_ENROLLMENT = 4368;\n",
    "\n",
    "query = \"\"\"\n",
    "select \n",
    "    cd.HARDSHIP_INDEX\n",
    "from \n",
    "    CENSUS_DATA cd\n",
    "join \n",
    "    CHICAGO_PUBLIC_SCHOOLS_DATA cps\n",
    "    on cd.COMMUNITY_AREA_NUMBER = cps.COMMUNITY_AREA_NUMBER\n",
    "where \n",
    "    cps.COLLEGE_ENROLLMENT = 4368;\n",
    "\"\"\"\n",
    "\n",
    "cur.execute(query)\n",
    "rows = cur.fetchall()\n",
    "column_names = [desc[0] for desc in cur.description]\n",
    "hardship_df = pd.DataFrame(rows, columns=column_names)\n",
    "display(hardship_df)"
   ]
  },
  {
   "cell_type": "markdown",
   "id": "e3e081bf-c443-4ea8-9ff8-ca3c6b14d233",
   "metadata": {},
   "source": [
    "Double-click **here** for the solution.\n",
    "\n",
    "<!-- Solution:\n",
    "NOTE: For this solution to work the CHICAGO_SOCIOECONOMIC_DATA table \n",
    "      as created in the last lab of Week 3 should already exist. If the CHICAGO_SOCIOECONOMIC_DATA table does not exists, please execute the following code beforehand.\n",
    "\n",
    "df = pandas.read_csv(\"https://cf-courses-data.s3.us.cloud-object-storage.appdomain.cloud/IBMDeveloperSkillsNetwork-DB0201EN-SkillsNetwork/labs/FinalModule_Coursera_V5/data/ChicagoCensusData.csv\")\n",
    "df.to_sql(\"CENSUS_DATA\", con, if_exists='replace', index=False,method=\"multi\")\n",
    "\n",
    "\n",
    "%%sql \n",
    "select hardship_index from CENSUS_DATA CD, CHICAGO_PUBLIC_SCHOOLS_DATA CPS \n",
    "where CD.community_area_number = CPS.community_area_number \n",
    "and college_enrollment = 4368\n",
    "\n",
    "\n",
    "-->\n"
   ]
  },
  {
   "cell_type": "markdown",
   "id": "e0ef79df-f837-43ba-b4ab-97ab365c3197",
   "metadata": {},
   "source": [
    "### Problem 12\n",
    "\n",
    "##### Get the hardship index for the community area which has the highest value for College Enrollment\n"
   ]
  },
  {
   "cell_type": "code",
   "execution_count": 21,
   "id": "13b3396b-1816-4ed5-81e8-21adf3866e39",
   "metadata": {},
   "outputs": [
    {
     "data": {
      "text/html": [
       "<div>\n",
       "<style scoped>\n",
       "    .dataframe tbody tr th:only-of-type {\n",
       "        vertical-align: middle;\n",
       "    }\n",
       "\n",
       "    .dataframe tbody tr th {\n",
       "        vertical-align: top;\n",
       "    }\n",
       "\n",
       "    .dataframe thead th {\n",
       "        text-align: right;\n",
       "    }\n",
       "</style>\n",
       "<table border=\"1\" class=\"dataframe\">\n",
       "  <thead>\n",
       "    <tr style=\"text-align: right;\">\n",
       "      <th></th>\n",
       "      <th>COMMUNITY_AREA_NUMBER</th>\n",
       "      <th>COMMUNITY_AREA_NAME</th>\n",
       "      <th>HARDSHIP_INDEX</th>\n",
       "    </tr>\n",
       "  </thead>\n",
       "  <tbody>\n",
       "    <tr>\n",
       "      <th>0</th>\n",
       "      <td>5</td>\n",
       "      <td>NORTH CENTER</td>\n",
       "      <td>6.0</td>\n",
       "    </tr>\n",
       "  </tbody>\n",
       "</table>\n",
       "</div>"
      ],
      "text/plain": [
       "   COMMUNITY_AREA_NUMBER COMMUNITY_AREA_NAME  HARDSHIP_INDEX\n",
       "0                      5        NORTH CENTER             6.0"
      ]
     },
     "metadata": {},
     "output_type": "display_data"
    }
   ],
   "source": [
    "# %%sql\n",
    "# select\n",
    "#     cps.COMMUNITY_AREA_NUMBER, cps.COMMUNITY_AREA_NAME, cd.HARDSHIP_INDEX\n",
    "# from\n",
    "#     CHICAGO_PUBLIC_SCHOOLS_DATA cps\n",
    "# join\n",
    "#     CENSUS_DATA cd\n",
    "#     on cd.COMMUNITY_AREA_NUMBER = cps.COMMUNITY_AREA_NUMBER\n",
    "# where\n",
    "#     cps.COLLEGE_ENROLLMENT = (\n",
    "#         select max(COLLEGE_ENROLLMENT)\n",
    "#         from CHICAGO_PUBLIC_SCHOOLS_DATA\n",
    "#     );\n",
    "\n",
    "query = \"\"\"\n",
    "select\n",
    "    cps.COMMUNITY_AREA_NUMBER, cps.COMMUNITY_AREA_NAME, cd.HARDSHIP_INDEX\n",
    "from\n",
    "    CHICAGO_PUBLIC_SCHOOLS_DATA cps\n",
    "join\n",
    "    CENSUS_DATA cd\n",
    "    on cd.COMMUNITY_AREA_NUMBER = cps.COMMUNITY_AREA_NUMBER\n",
    "where\n",
    "    cps.COLLEGE_ENROLLMENT = (\n",
    "        select max(COLLEGE_ENROLLMENT)\n",
    "        from CHICAGO_PUBLIC_SCHOOLS_DATA\n",
    "    );\n",
    "\"\"\"\n",
    "\n",
    "cur.execute(query)\n",
    "rows = cur.fetchall()\n",
    "column_names = [desc[0] for desc in cur.description]\n",
    "hardship_df = pd.DataFrame(rows, columns=column_names)\n",
    "display(hardship_df)"
   ]
  },
  {
   "cell_type": "markdown",
   "id": "70e41d17-7fae-4871-8a9b-818678b81f40",
   "metadata": {},
   "source": [
    "Double-click **here** for the solution.\n",
    "\n",
    "<!-- Solution:\n",
    "NOTE: For this solution to work the CHICAGO_SOCIOECONOMIC_DATA table \n",
    "      as created in the last lab of Week 3 should already exist. If the CHICAGO_SOCIOECONOMIC_DATA table does not exists, please execute the following code beforehand.\n",
    "\n",
    "df = pandas.read_csv(\"https://cf-courses-data.s3.us.cloud-object-storage.appdomain.cloud/IBMDeveloperSkillsNetwork-DB0201EN-SkillsNetwork/labs/FinalModule_Coursera_V5/data/ChicagoCensusData.csv\")\n",
    "df.to_sql(\"CENSUS_DATA\", con, if_exists='replace', index=False,method=\"multi\")\n",
    "\n",
    "%sql select community_area_number, community_area_name, hardship_index from CENSUS_DATA \\\n",
    "   where community_area_number in \\\n",
    "   ( select community_area_number from CHICAGO_PUBLIC_SCHOOLS_DATA order by college_enrollment desc limit 1 )\n",
    "-->\n"
   ]
  },
  {
   "cell_type": "markdown",
   "id": "68aed8f4-bb7b-43d8-88f2-7ac045333b84",
   "metadata": {},
   "source": [
    "## Summary\n",
    "\n",
    "##### In this lab you learned how to work with a real word dataset using SQL and Python. You learned how to query columns with spaces or special characters in their names and with mixed case names. You also used built in database functions and practiced how to sort, limit, and order result sets, as well as used sub-queries and worked with multiple tables.\n"
   ]
  },
  {
   "cell_type": "markdown",
   "id": "0eb8c84c-2106-4b56-a89a-b07a3a76434d",
   "metadata": {},
   "source": [
    "## Author\n",
    "\n",
    "<a href=\"https://www.linkedin.com/in/ravahuja/?utm_medium=Exinfluencer&utm_source=Exinfluencer&utm_content=000026UJ&utm_term=10006555&utm_id=NA-SkillsNetwork-Channel-SkillsNetworkCoursesIBMDeveloperSkillsNetworkDB0201ENSkillsNetwork20127838-2021-01-01\" target=\"_blank\">Rav Ahuja</a>\n",
    "<!--\n",
    "## Change Log\n",
    "\n",
    "| Date (YYYY-MM-DD) | Version | Changed By        | Change Description                        |\n",
    "| ----------------- | ------- | ----------------- | ----------------------------------------- |\n",
    "| 2022-03-04        | 2.2     | Lakshmi Holla     | Made changes in markdown cells |\n",
    "| 2020-11-27        | 2.1     | Sannareddy Ramesh | Modified data sets and added new problems |\n",
    "| 2020-08-28        | 2.0     | Lavanya           | Moved lab to course repo in GitLab        |\n",
    "-->\n",
    "<hr>\n",
    "\n",
    "## <h3 align=\"center\"> © IBM Corporation 2020. All rights reserved. <h3/>\n"
   ]
  }
 ],
 "metadata": {
  "kernelspec": {
   "display_name": "Python 3",
   "language": "python",
   "name": "python3"
  },
  "language_info": {
   "codemirror_mode": {
    "name": "ipython",
    "version": 3
   },
   "file_extension": ".py",
   "mimetype": "text/x-python",
   "name": "python",
   "nbconvert_exporter": "python",
   "pygments_lexer": "ipython3",
   "version": "3.12.4"
  },
  "prev_pub_hash": "ecd529bffd0cf45ce3f937ff22c77ebad318d4569e50f2539bf1215420b6967a"
 },
 "nbformat": 4,
 "nbformat_minor": 4
}
